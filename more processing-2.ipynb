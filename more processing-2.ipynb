{
 "cells": [
  {
   "cell_type": "code",
   "execution_count": 107,
   "id": "51fc3644-55c9-49f8-999e-2511022e0bd9",
   "metadata": {},
   "outputs": [],
   "source": [
    "import pandas as pd\n",
    "from sklearn.preprocessing import OneHotEncoder\n",
    "import numpy as np\n",
    "import matplotlib.pyplot as plt"
   ]
  },
  {
   "cell_type": "code",
   "execution_count": 12,
   "id": "e4263c3c-faa3-4389-bc19-a7b2b73ad1c7",
   "metadata": {},
   "outputs": [
    {
     "data": {
      "text/html": [
       "<div>\n",
       "<style scoped>\n",
       "    .dataframe tbody tr th:only-of-type {\n",
       "        vertical-align: middle;\n",
       "    }\n",
       "\n",
       "    .dataframe tbody tr th {\n",
       "        vertical-align: top;\n",
       "    }\n",
       "\n",
       "    .dataframe thead th {\n",
       "        text-align: right;\n",
       "    }\n",
       "</style>\n",
       "<table border=\"1\" class=\"dataframe\">\n",
       "  <thead>\n",
       "    <tr style=\"text-align: right;\">\n",
       "      <th></th>\n",
       "      <th>Название</th>\n",
       "      <th>Год</th>\n",
       "      <th>Топливо</th>\n",
       "      <th>Объем двигателя</th>\n",
       "      <th>Мощность</th>\n",
       "      <th>Коробка передач</th>\n",
       "      <th>Привод</th>\n",
       "      <th>Цвет</th>\n",
       "      <th>Пробег</th>\n",
       "      <th>Руль</th>\n",
       "      <th>Цена</th>\n",
       "    </tr>\n",
       "  </thead>\n",
       "  <tbody>\n",
       "    <tr>\n",
       "      <th>0</th>\n",
       "      <td>Kia Mohave</td>\n",
       "      <td>2020</td>\n",
       "      <td>дизель</td>\n",
       "      <td>3.0</td>\n",
       "      <td>260.0</td>\n",
       "      <td>автомат</td>\n",
       "      <td>4WD</td>\n",
       "      <td>серый</td>\n",
       "      <td>26000.0</td>\n",
       "      <td>левый</td>\n",
       "      <td>4650000</td>\n",
       "    </tr>\n",
       "    <tr>\n",
       "      <th>1</th>\n",
       "      <td>Hyundai Santa Fe</td>\n",
       "      <td>2018</td>\n",
       "      <td>дизель</td>\n",
       "      <td>2.2</td>\n",
       "      <td>200.0</td>\n",
       "      <td>автомат</td>\n",
       "      <td>4WD</td>\n",
       "      <td>серый</td>\n",
       "      <td>81000.0</td>\n",
       "      <td>левый</td>\n",
       "      <td>2850000</td>\n",
       "    </tr>\n",
       "    <tr>\n",
       "      <th>2</th>\n",
       "      <td>Toyota RAV4</td>\n",
       "      <td>2022</td>\n",
       "      <td>бензин</td>\n",
       "      <td>2.0</td>\n",
       "      <td>173.0</td>\n",
       "      <td>вариатор</td>\n",
       "      <td>4WD</td>\n",
       "      <td>черный</td>\n",
       "      <td>1.0</td>\n",
       "      <td>левый</td>\n",
       "      <td>4000000</td>\n",
       "    </tr>\n",
       "    <tr>\n",
       "      <th>3</th>\n",
       "      <td>Jeep Gladiator</td>\n",
       "      <td>2020</td>\n",
       "      <td>бензин</td>\n",
       "      <td>3.6</td>\n",
       "      <td>285.0</td>\n",
       "      <td>автомат</td>\n",
       "      <td>4WD</td>\n",
       "      <td>черный</td>\n",
       "      <td>15000.0</td>\n",
       "      <td>левый</td>\n",
       "      <td>6750000</td>\n",
       "    </tr>\n",
       "    <tr>\n",
       "      <th>4</th>\n",
       "      <td>Jeep Wrangler</td>\n",
       "      <td>2018</td>\n",
       "      <td>бензин</td>\n",
       "      <td>2.0</td>\n",
       "      <td>272.0</td>\n",
       "      <td>автомат</td>\n",
       "      <td>4WD</td>\n",
       "      <td>черный</td>\n",
       "      <td>37700.0</td>\n",
       "      <td>левый</td>\n",
       "      <td>5200000</td>\n",
       "    </tr>\n",
       "  </tbody>\n",
       "</table>\n",
       "</div>"
      ],
      "text/plain": [
       "           Название   Год Топливо  Объем двигателя  Мощность Коробка передач  \\\n",
       "0        Kia Mohave  2020  дизель              3.0     260.0         автомат   \n",
       "1  Hyundai Santa Fe  2018  дизель              2.2     200.0         автомат   \n",
       "2       Toyota RAV4  2022  бензин              2.0     173.0        вариатор   \n",
       "3    Jeep Gladiator  2020  бензин              3.6     285.0         автомат   \n",
       "4     Jeep Wrangler  2018  бензин              2.0     272.0         автомат   \n",
       "\n",
       "  Привод    Цвет   Пробег   Руль     Цена  \n",
       "0    4WD   серый  26000.0  левый  4650000  \n",
       "1    4WD   серый  81000.0  левый  2850000  \n",
       "2    4WD  черный      1.0  левый  4000000  \n",
       "3    4WD  черный  15000.0  левый  6750000  \n",
       "4    4WD  черный  37700.0  левый  5200000  "
      ]
     },
     "execution_count": 12,
     "metadata": {},
     "output_type": "execute_result"
    }
   ],
   "source": [
    "data = pd.read_csv('data_processed.csv', index_col=0)\n",
    "data.drop('Оценка Drom', axis=1, inplace=True)\n",
    "data.head()"
   ]
  },
  {
   "cell_type": "code",
   "execution_count": 94,
   "id": "d8d00263-abf7-4b3b-9d27-fce9889889d2",
   "metadata": {},
   "outputs": [],
   "source": [
    "# Так как некоторых цветов очень мало, а самих цветов мгного, я предлагаю заменить на черный/белый/серый/холодный/тёплый\n",
    "\n",
    "cold = set(data['Цвет'].unique()) - {'черный', 'серый', 'белый', 'коричневый', 'бордовый',\n",
    "                                     'красный', 'бежевый', 'желтый',  'оранжевый', 'золотистый'}\n",
    "warm = {'коричневый', 'бордовый', 'красный', 'бежевый', 'желтый',  'оранжевый', 'золотистый'}\n",
    "data['холодный цвет'] = data['Цвет'].apply(lambda x: 1 if x in cold else 0)\n",
    "data['теплый цвет'] = data['Цвет'].apply(lambda x: 1 if x in warm else 0)\n",
    "data['черный цвет'] = data['Цвет'].apply(lambda x: 1 if x =='черный' else 0)\n",
    "data['белый цвет'] = data['Цвет'].apply(lambda x: 1 if x =='белый' else 0)\n",
    "data['серый цвет'] = data['Цвет'].apply(lambda x: 1 if x =='серый' else 0)"
   ]
  },
  {
   "cell_type": "code",
   "execution_count": 183,
   "id": "06dc53f4-2481-405c-b559-ef9a47a89a31",
   "metadata": {},
   "outputs": [],
   "source": [
    "# Кодируем остальные категориальные признаки\n",
    "onehot = OneHotEncoder(sparse=False)\n",
    "X = onehot.fit_transform(data[['Привод', 'Топливо', 'Коробка передач', 'Руль']])"
   ]
  },
  {
   "cell_type": "code",
   "execution_count": 184,
   "id": "9bd46a8c-c577-4d26-b452-d77b3ff1e4ee",
   "metadata": {},
   "outputs": [],
   "source": [
    "cat = list(onehot.categories_[0]) + list(onehot.categories_[1]) + list(onehot.categories_[2]) + list(onehot.categories_[3])"
   ]
  },
  {
   "cell_type": "code",
   "execution_count": 185,
   "id": "536700a6-838b-4e8f-a938-ab0e3af1e9b1",
   "metadata": {},
   "outputs": [],
   "source": [
    "data[cat] = X"
   ]
  },
  {
   "cell_type": "code",
   "execution_count": 186,
   "id": "dc5235f2-2929-427a-8d76-26b393dd49ea",
   "metadata": {},
   "outputs": [],
   "source": [
    "# логарифмируем численные фичи:\n",
    "data['log years old'] = np.log(2023 - data['Год']+1)\n",
    "data['log volume'] = np.log(data['Объем двигателя'] + 1)\n",
    "data['log price'] = np.log(data['Цена'])\n",
    "data['log power'] = np.log(data['Мощность'])\n",
    "data['log price'] = np.log(data['Цена'])\n",
    "data['log mileage'] = np.log(data['Пробег']+1)"
   ]
  },
  {
   "cell_type": "code",
   "execution_count": 187,
   "id": "599dcad7-1ddc-4bed-b18c-86717232efd4",
   "metadata": {},
   "outputs": [
    {
     "data": {
      "image/png": "[encoded data removed]",
      "text/plain": [
       "<Figure size 640x480 with 1 Axes>"
      ]
     },
     "metadata": {},
     "output_type": "display_data"
    }
   ],
   "source": [
    "plt.hist(np.log(data['years old']+1));"
   ]
  },
  {
   "cell_type": "code",
   "execution_count": 189,
   "id": "f6cfa5a8-b930-4784-91e3-9ed1bfd5c794",
   "metadata": {},
   "outputs": [
    {
     "data": {
      "text/plain": [
       "Index(['Название', 'Год', 'Топливо', 'Объем двигателя', 'Мощность',\n",
       "       'Коробка передач', 'Привод', 'Цвет', 'Пробег', 'Руль', 'Цена',\n",
       "       'холодный цвет', 'теплый цвет', 'черный цвет', 'белый цвет',\n",
       "       'серый цвет', 'log volume', 'log price', 'log power', 'years old',\n",
       "       'log years old', 'log mileage', '4WD', 'задний', 'передний', 'бензин',\n",
       "       'дизель', 'электро', 'автомат', 'вариатор', 'механика', 'робот',\n",
       "       'левый', 'правый'],\n",
       "      dtype='object')"
      ]
     },
     "execution_count": 189,
     "metadata": {},
     "output_type": "execute_result"
    }
   ],
   "source": [
    "data.columns"
   ]
  },
  {
   "cell_type": "code",
   "execution_count": 190,
   "id": "3d4a96fb-750a-4d78-b700-21e59bf6ae02",
   "metadata": {},
   "outputs": [],
   "source": [
    "data.to_csv('data_reprocessed.csv')"
   ]
  }
 ],
 "metadata": {
  "kernelspec": {
   "display_name": "Python 3 (ipykernel)",
   "language": "python",
   "name": "python3"
  },
  "language_info": {
   "codemirror_mode": {
    "name": "ipython",
    "version": 3
   },
   "file_extension": ".py",
   "mimetype": "text/x-python",
   "name": "python",
   "nbconvert_exporter": "python",
   "pygments_lexer": "ipython3",
   "version": "3.9.16"
  }
 },
 "nbformat": 4,
 "nbformat_minor": 5
}
