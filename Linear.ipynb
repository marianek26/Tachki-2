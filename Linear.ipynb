{
 "cells": [
  {
   "cell_type": "code",
   "execution_count": 1,
   "id": "c01f7d73",
   "metadata": {},
   "outputs": [],
   "source": [
    "import pandas as pd\n",
    "import numpy as np\n",
    "from sklearn.preprocessing import OneHotEncoder"
   ]
  },
  {
   "cell_type": "code",
   "execution_count": 2,
   "id": "1f146629",
   "metadata": {},
   "outputs": [],
   "source": [
    "df = pd.read_csv('data_reprocessed.csv')"
   ]
  },
  {
   "cell_type": "markdown",
   "id": "85c0c6c0",
   "metadata": {},
   "source": [
    "Добавим к текущей таблице страны"
   ]
  },
  {
   "cell_type": "code",
   "execution_count": 3,
   "id": "b0cfc5f9",
   "metadata": {},
   "outputs": [],
   "source": [
    "df.insert(1, 'Марка', df['Название'].str.split(' ', 1, expand=True)[1])\n",
    "df['Название'] = df['Название'].str.split(' ', 1, expand=True)[0]\n",
    "df.rename(columns = {'Название': 'Производитель'}, inplace = True)\n",
    "\n",
    "\n",
    "countries = {'Kia': 'Южная Корея', 'Hyundai': 'Южная Корея', 'Toyota': 'Япония', 'Jeep': 'США',\n",
    "             'Mercedes-Benz': 'Германия', 'Лада': 'Россия', 'BMW': 'Германия','ГАЗ': 'Россия',\n",
    "             'Changan': 'Китай', 'Infiniti': 'Япония', 'Audi': 'Германия', 'Volkswagen': 'Германия',\n",
    "             'Great Wall': 'Китай', 'Honda': 'Япония', 'Nissan': 'Япония', 'SsangYong': 'Южная Корея', \n",
    "             'Skoda': 'Чехия', 'Volvo': 'Швеция', 'Land Rover': 'Британия', 'Chevrolet': 'США',\n",
    "             'Mazda': 'Япония', 'Opel': 'Германия', 'Peugeot': 'Франция', 'Rivian': 'США',\n",
    "             'Renault': 'Франция', 'Mitsubishi': 'Япония', 'Tesla': 'США', 'Lexus': 'Япония',\n",
    "             'Ford': 'США', 'Bentley': 'Британия', 'Subaru': 'Япония', 'Porsche': 'Германия',\n",
    "             'Dodge': 'США', 'Fiat': 'Италия', 'Suzuki': 'Япония', 'Haval': 'Китай', 'УАЗ': 'Россия',\n",
    "             'Geely': 'Китай', 'Chery': 'Китай', 'EXEED': 'Китай', 'Genesis': 'Южная Корея',\n",
    "             'Dongfeng': 'Китай', 'Citroen': 'Германия', 'BYD': 'Китай', 'Jaguar': 'Британия',\n",
    "             'Tank': 'Китай', 'ЗАЗ': 'Россия', 'Daewoo': 'Южная Корея', 'Kaiyi': 'Китай',\n",
    "             'MINI': 'Британия', 'Datsun': 'Япония', 'Москвич': 'Россия', 'SEAT': 'Испания',\n",
    "             'Cadillac': 'США', 'Daihatsu': 'Япония', 'Voyah': 'Китай', 'GMC': 'США', 'Chrysler': 'США',\n",
    "             'Lifan': 'Китай', 'Isuzu': 'Япония', 'Ferrari': 'Италия', 'Smart': 'Германия',\n",
    "             'Evolute': 'Россия', 'RAM': 'США', 'Maybach': 'Германия'}\n",
    "\n",
    "df['Country'] = df['Производитель'].map(countries)"
   ]
  },
  {
   "cell_type": "code",
   "execution_count": 4,
   "id": "e0db0a55",
   "metadata": {},
   "outputs": [
    {
     "name": "stderr",
     "output_type": "stream",
     "text": [
      "/Users/egorserockin/opt/anaconda3/lib/python3.9/site-packages/sklearn/preprocessing/_encoders.py:868: FutureWarning: `sparse` was renamed to `sparse_output` in version 1.2 and will be removed in 1.4. `sparse_output` is ignored unless you leave `sparse` to its default value.\n",
      "  warnings.warn(\n"
     ]
    }
   ],
   "source": [
    "onehot = OneHotEncoder(sparse=False)\n",
    "X = onehot.fit_transform(pd.DataFrame(df['Country']))\n",
    "cat = list(onehot.categories_[0])\n",
    "df[cat] = X"
   ]
  },
  {
   "cell_type": "code",
   "execution_count": 5,
   "id": "a300158a",
   "metadata": {},
   "outputs": [
    {
     "data": {
      "text/html": [
       "<div>\n",
       "<style scoped>\n",
       "    .dataframe tbody tr th:only-of-type {\n",
       "        vertical-align: middle;\n",
       "    }\n",
       "\n",
       "    .dataframe tbody tr th {\n",
       "        vertical-align: top;\n",
       "    }\n",
       "\n",
       "    .dataframe thead th {\n",
       "        text-align: right;\n",
       "    }\n",
       "</style>\n",
       "<table border=\"1\" class=\"dataframe\">\n",
       "  <thead>\n",
       "    <tr style=\"text-align: right;\">\n",
       "      <th></th>\n",
       "      <th>Unnamed: 0</th>\n",
       "      <th>Марка</th>\n",
       "      <th>Производитель</th>\n",
       "      <th>Год</th>\n",
       "      <th>Топливо</th>\n",
       "      <th>Объем двигателя</th>\n",
       "      <th>Мощность</th>\n",
       "      <th>Коробка передач</th>\n",
       "      <th>Привод</th>\n",
       "      <th>Цвет</th>\n",
       "      <th>...</th>\n",
       "      <th>Италия</th>\n",
       "      <th>Китай</th>\n",
       "      <th>Россия</th>\n",
       "      <th>США</th>\n",
       "      <th>Франция</th>\n",
       "      <th>Чехия</th>\n",
       "      <th>Швеция</th>\n",
       "      <th>Южная Корея</th>\n",
       "      <th>Япония</th>\n",
       "      <th>NaN</th>\n",
       "    </tr>\n",
       "  </thead>\n",
       "  <tbody>\n",
       "    <tr>\n",
       "      <th>0</th>\n",
       "      <td>0</td>\n",
       "      <td>Mohave</td>\n",
       "      <td>Kia</td>\n",
       "      <td>2020</td>\n",
       "      <td>дизель</td>\n",
       "      <td>3.0</td>\n",
       "      <td>260.0</td>\n",
       "      <td>автомат</td>\n",
       "      <td>4WD</td>\n",
       "      <td>серый</td>\n",
       "      <td>...</td>\n",
       "      <td>0.0</td>\n",
       "      <td>0.0</td>\n",
       "      <td>0.0</td>\n",
       "      <td>0.0</td>\n",
       "      <td>0.0</td>\n",
       "      <td>0.0</td>\n",
       "      <td>0.0</td>\n",
       "      <td>1.0</td>\n",
       "      <td>0.0</td>\n",
       "      <td>0.0</td>\n",
       "    </tr>\n",
       "    <tr>\n",
       "      <th>1</th>\n",
       "      <td>1</td>\n",
       "      <td>Santa Fe</td>\n",
       "      <td>Hyundai</td>\n",
       "      <td>2018</td>\n",
       "      <td>дизель</td>\n",
       "      <td>2.2</td>\n",
       "      <td>200.0</td>\n",
       "      <td>автомат</td>\n",
       "      <td>4WD</td>\n",
       "      <td>серый</td>\n",
       "      <td>...</td>\n",
       "      <td>0.0</td>\n",
       "      <td>0.0</td>\n",
       "      <td>0.0</td>\n",
       "      <td>0.0</td>\n",
       "      <td>0.0</td>\n",
       "      <td>0.0</td>\n",
       "      <td>0.0</td>\n",
       "      <td>1.0</td>\n",
       "      <td>0.0</td>\n",
       "      <td>0.0</td>\n",
       "    </tr>\n",
       "    <tr>\n",
       "      <th>2</th>\n",
       "      <td>2</td>\n",
       "      <td>RAV4</td>\n",
       "      <td>Toyota</td>\n",
       "      <td>2022</td>\n",
       "      <td>бензин</td>\n",
       "      <td>2.0</td>\n",
       "      <td>173.0</td>\n",
       "      <td>вариатор</td>\n",
       "      <td>4WD</td>\n",
       "      <td>черный</td>\n",
       "      <td>...</td>\n",
       "      <td>0.0</td>\n",
       "      <td>0.0</td>\n",
       "      <td>0.0</td>\n",
       "      <td>0.0</td>\n",
       "      <td>0.0</td>\n",
       "      <td>0.0</td>\n",
       "      <td>0.0</td>\n",
       "      <td>0.0</td>\n",
       "      <td>1.0</td>\n",
       "      <td>0.0</td>\n",
       "    </tr>\n",
       "    <tr>\n",
       "      <th>3</th>\n",
       "      <td>3</td>\n",
       "      <td>Gladiator</td>\n",
       "      <td>Jeep</td>\n",
       "      <td>2020</td>\n",
       "      <td>бензин</td>\n",
       "      <td>3.6</td>\n",
       "      <td>285.0</td>\n",
       "      <td>автомат</td>\n",
       "      <td>4WD</td>\n",
       "      <td>черный</td>\n",
       "      <td>...</td>\n",
       "      <td>0.0</td>\n",
       "      <td>0.0</td>\n",
       "      <td>0.0</td>\n",
       "      <td>1.0</td>\n",
       "      <td>0.0</td>\n",
       "      <td>0.0</td>\n",
       "      <td>0.0</td>\n",
       "      <td>0.0</td>\n",
       "      <td>0.0</td>\n",
       "      <td>0.0</td>\n",
       "    </tr>\n",
       "    <tr>\n",
       "      <th>4</th>\n",
       "      <td>4</td>\n",
       "      <td>Wrangler</td>\n",
       "      <td>Jeep</td>\n",
       "      <td>2018</td>\n",
       "      <td>бензин</td>\n",
       "      <td>2.0</td>\n",
       "      <td>272.0</td>\n",
       "      <td>автомат</td>\n",
       "      <td>4WD</td>\n",
       "      <td>черный</td>\n",
       "      <td>...</td>\n",
       "      <td>0.0</td>\n",
       "      <td>0.0</td>\n",
       "      <td>0.0</td>\n",
       "      <td>1.0</td>\n",
       "      <td>0.0</td>\n",
       "      <td>0.0</td>\n",
       "      <td>0.0</td>\n",
       "      <td>0.0</td>\n",
       "      <td>0.0</td>\n",
       "      <td>0.0</td>\n",
       "    </tr>\n",
       "  </tbody>\n",
       "</table>\n",
       "<p>5 rows × 50 columns</p>\n",
       "</div>"
      ],
      "text/plain": [
       "   Unnamed: 0      Марка Производитель   Год Топливо  Объем двигателя  \\\n",
       "0           0     Mohave           Kia  2020  дизель              3.0   \n",
       "1           1   Santa Fe       Hyundai  2018  дизель              2.2   \n",
       "2           2       RAV4        Toyota  2022  бензин              2.0   \n",
       "3           3  Gladiator          Jeep  2020  бензин              3.6   \n",
       "4           4   Wrangler          Jeep  2018  бензин              2.0   \n",
       "\n",
       "   Мощность Коробка передач Привод    Цвет  ...  Италия Китай  Россия  США  \\\n",
       "0     260.0         автомат    4WD   серый  ...     0.0   0.0     0.0  0.0   \n",
       "1     200.0         автомат    4WD   серый  ...     0.0   0.0     0.0  0.0   \n",
       "2     173.0        вариатор    4WD  черный  ...     0.0   0.0     0.0  0.0   \n",
       "3     285.0         автомат    4WD  черный  ...     0.0   0.0     0.0  1.0   \n",
       "4     272.0         автомат    4WD  черный  ...     0.0   0.0     0.0  1.0   \n",
       "\n",
       "   Франция  Чехия  Швеция  Южная Корея  Япония  NaN  \n",
       "0      0.0    0.0     0.0          1.0     0.0  0.0  \n",
       "1      0.0    0.0     0.0          1.0     0.0  0.0  \n",
       "2      0.0    0.0     0.0          0.0     1.0  0.0  \n",
       "3      0.0    0.0     0.0          0.0     0.0  0.0  \n",
       "4      0.0    0.0     0.0          0.0     0.0  0.0  \n",
       "\n",
       "[5 rows x 50 columns]"
      ]
     },
     "execution_count": 5,
     "metadata": {},
     "output_type": "execute_result"
    }
   ],
   "source": [
    "df.head()"
   ]
  },
  {
   "cell_type": "code",
   "execution_count": 25,
   "id": "0df7cd22",
   "metadata": {},
   "outputs": [],
   "source": [
    "x_col_ln = ['холодный цвет', 'теплый цвет', 'черный цвет', \n",
    "         'белый цвет', 'log volume', 'log power', 'log years old',\n",
    "         'log mileage','задний', 'передний', 'бензин', 'дизель', \n",
    "         'автомат', 'вариатор', 'механика', 'левый', 'Британия', 'Германия',\n",
    "         'Испания', 'Италия', 'Китай', 'Россия', 'США', 'Франция',\n",
    "         'Чехия', 'Швеция', 'Южная Корея', 'Япония']\n",
    "y_col = 'log price'\n",
    "\n",
    "\n",
    "X_ln = df[x_col_ln]\n",
    "y_ln = df[y_col]"
   ]
  },
  {
   "cell_type": "code",
   "execution_count": 26,
   "id": "058b981b",
   "metadata": {},
   "outputs": [],
   "source": [
    "from sklearn.linear_model import LinearRegression\n",
    "from sklearn.model_selection import train_test_split\n",
    "from sklearn.metrics import mean_squared_error\n",
    "\n",
    "import warnings\n",
    "warnings.filterwarnings(\"ignore\")\n",
    "\n",
    "X_train, X_test, y_train, y_test = train_test_split(X_ln, y_ln, test_size=0.2, random_state=42)"
   ]
  },
  {
   "cell_type": "code",
   "execution_count": 33,
   "id": "0816917d",
   "metadata": {},
   "outputs": [
    {
     "data": {
      "text/plain": [
       "4096840.806604091"
      ]
     },
     "execution_count": 33,
     "metadata": {},
     "output_type": "execute_result"
    }
   ],
   "source": [
    "model = LinearRegression()\n",
    "model.fit(np.array(X_train), y_train)\n",
    "y_pr = model.predict(np.array(X_test))\n",
    "\n",
    "metrics = np.sqrt(mean_squared_error(y_test, np.e**y_pr))\n",
    "metrics"
   ]
  },
  {
   "cell_type": "code",
   "execution_count": 34,
   "id": "352afcf1",
   "metadata": {},
   "outputs": [
    {
     "data": {
      "text/plain": [
       "3206818.341366807"
      ]
     },
     "execution_count": 34,
     "metadata": {},
     "output_type": "execute_result"
    }
   ],
   "source": [
    "from sklearn.linear_model import Lasso\n",
    "from sklearn.model_selection import GridSearchCV\n",
    "\n",
    "model = Lasso(random_state=42)\n",
    "param_grid = {'alpha': np.arange(0.1, 1, 0.1)}\n",
    "clf = GridSearchCV(model, param_grid)\n",
    "clf.fit(X_train, y_train)\n",
    "y_pr = clf.predict(X_test)\n",
    "\n",
    "metrics = np.sqrt(mean_squared_error(y_test, np.e**y_pr))\n",
    "metrics"
   ]
  },
  {
   "cell_type": "code",
   "execution_count": 35,
   "id": "a48ff835",
   "metadata": {},
   "outputs": [
    {
     "data": {
      "text/plain": [
       "4093166.7925374927"
      ]
     },
     "execution_count": 35,
     "metadata": {},
     "output_type": "execute_result"
    }
   ],
   "source": [
    "from sklearn.linear_model import Ridge\n",
    "\n",
    "model = Ridge(random_state=42)\n",
    "param_grid = {'alpha': np.arange(0.1, 1, 0.1)}\n",
    "clf = GridSearchCV(model, param_grid)\n",
    "clf.fit(X_train, y_train)\n",
    "y_pr = clf.predict(X_test)\n",
    "\n",
    "metrics = np.sqrt(mean_squared_error(y_test, np.e**y_pr))\n",
    "metrics"
   ]
  },
  {
   "cell_type": "code",
   "execution_count": 36,
   "id": "7e1d16c6",
   "metadata": {},
   "outputs": [
    {
     "data": {
      "text/plain": [
       "3309838.3195602465"
      ]
     },
     "execution_count": 36,
     "metadata": {},
     "output_type": "execute_result"
    }
   ],
   "source": [
    "from sklearn.linear_model import ElasticNet\n",
    "\n",
    "model = ElasticNet(random_state=42)\n",
    "param_grid = {'alpha': np.arange(0.1, 1.1, 0.1),\n",
    "             'l1_ratio': np.arange(0.1, 1.1, 0.1)}\n",
    "clf = GridSearchCV(model, param_grid)\n",
    "clf.fit(X_train, y_train)\n",
    "y_pr = clf.predict(X_test)\n",
    "\n",
    "metrics = np.sqrt(mean_squared_error(y_test, np.e**y_pr))\n",
    "metrics"
   ]
  },
  {
   "cell_type": "code",
   "execution_count": 37,
   "id": "cdea24d1",
   "metadata": {},
   "outputs": [
    {
     "data": {
      "text/plain": [
       "3531107.138098376"
      ]
     },
     "execution_count": 37,
     "metadata": {},
     "output_type": "execute_result"
    }
   ],
   "source": [
    "from sklearn.linear_model import SGDRegressor\n",
    "\n",
    "model = SGDRegressor(random_state=42)\n",
    "param_grid = {'penalty': ['l2', 'l1', 'elasticnet', None],\n",
    "              'alpha': np.arange(0.1, 1.1, 0.1),\n",
    "              'l1_ratio': np.arange(0.1, 1.1, 0.1),\n",
    "              'learning_rate': ['constant', 'optimal', 'invscaling', 'adaptive']}\n",
    "clf = GridSearchCV(model, param_grid)\n",
    "clf.fit(X_train, y_train)\n",
    "y_pr = clf.predict(X_test)\n",
    "\n",
    "metrics = np.sqrt(mean_squared_error(y_test, np.e**y_pr))\n",
    "metrics"
   ]
  },
  {
   "cell_type": "code",
   "execution_count": null,
   "id": "364c24aa",
   "metadata": {},
   "outputs": [],
   "source": [
    "# наивный прогноз\n",
    "\n",
    "y_naive = np.full(y_test.size, y_train.mean())\n",
    "np.sqrt(mean_squared_error(y_test, y_naive))"
   ]
  },
  {
   "cell_type": "code",
   "execution_count": null,
   "id": "be3bbe48",
   "metadata": {},
   "outputs": [],
   "source": []
  },
  {
   "cell_type": "code",
   "execution_count": null,
   "id": "82f3a4a6",
   "metadata": {},
   "outputs": [],
   "source": []
  }
 ],
 "metadata": {
  "kernelspec": {
   "display_name": "Python 3 (ipykernel)",
   "language": "python",
   "name": "python3"
  },
  "language_info": {
   "codemirror_mode": {
    "name": "ipython",
    "version": 3
   },
   "file_extension": ".py",
   "mimetype": "text/x-python",
   "name": "python",
   "nbconvert_exporter": "python",
   "pygments_lexer": "ipython3",
   "version": "3.9.12"
  }
 },
 "nbformat": 4,
 "nbformat_minor": 5
}
